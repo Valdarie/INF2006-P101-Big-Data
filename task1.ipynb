{
 "cells": [
  {
   "cell_type": "markdown",
   "metadata": {},
   "source": [
    "###### 2202217 Teo Xuanting"
   ]
  },
  {
   "cell_type": "markdown",
   "metadata": {},
   "source": [
    "#### Import Libraries"
   ]
  },
  {
   "cell_type": "code",
   "execution_count": 1,
   "metadata": {},
   "outputs": [],
   "source": [
    "from pyspark.sql import SparkSession\n",
    "import pandas as pd\n",
    "from pyspark.sql.functions import regexp_extract"
   ]
  },
  {
   "cell_type": "code",
   "execution_count": 2,
   "metadata": {},
   "outputs": [],
   "source": [
    "spark = SparkSession.builder.appName(\"Task 1\").getOrCreate()"
   ]
  },
  {
   "cell_type": "markdown",
   "metadata": {},
   "source": [
    "#### Merge all CSV files into one CSV"
   ]
  },
  {
   "cell_type": "code",
   "execution_count": 3,
   "metadata": {},
   "outputs": [],
   "source": [
    "\"\"\"\n",
    "1. Read all the CSV files from 'dataset' folder into a Spark DataFrame\n",
    "2. Write the merged DataFrame into a single CSV file\n",
    "\"\"\"\n",
    "df = spark.read.option(\"header\", \"true\").csv('dataset')\n",
    "df.coalesce(1).write.option(\"header\", \"true\").csv('dataset/airline_data.csv', mode='overwrite')"
   ]
  },
  {
   "cell_type": "markdown",
   "metadata": {},
   "source": [
    "#### Data Preprocessing"
   ]
  },
  {
   "cell_type": "code",
   "execution_count": 4,
   "metadata": {},
   "outputs": [],
   "source": [
    "merged_df = spark.read.option(\"header\", \"true\").csv('dataset/airline_data.csv')\n",
    "\n",
    "merged_df = merged_df.filter(regexp_extract(merged_df['tweet_created'], r'(\\d{1,2}/\\d{1,2}/\\d{4})', 1) != '')\n",
    "merged_df = merged_df.filter(merged_df['_unit_id'].rlike('^\\d+$'))\n",
    "\n",
    "cleaned_df = merged_df.dropDuplicates(['_id'])"
   ]
  },
  {
   "cell_type": "markdown",
   "metadata": {},
   "source": [
    "#### Save Cleaned Data into CSV"
   ]
  },
  {
   "cell_type": "code",
   "execution_count": 5,
   "metadata": {},
   "outputs": [],
   "source": [
    "pandas_df = cleaned_df.toPandas()\n",
    "pandas_df.to_csv('dataset/cleaned_airline_data.csv', index=False)\n",
    "\n",
    "spark.stop()"
   ]
  }
 ],
 "metadata": {
  "kernelspec": {
   "display_name": "pyspark",
   "language": "python",
   "name": "python3"
  },
  "language_info": {
   "codemirror_mode": {
    "name": "ipython",
    "version": 3
   },
   "file_extension": ".py",
   "mimetype": "text/x-python",
   "name": "python",
   "nbconvert_exporter": "python",
   "pygments_lexer": "ipython3",
   "version": "3.10.12"
  }
 },
 "nbformat": 4,
 "nbformat_minor": 2
}
